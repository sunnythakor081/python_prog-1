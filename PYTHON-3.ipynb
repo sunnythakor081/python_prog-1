{
 "cells": [
  {
   "cell_type": "markdown",
   "id": "05325fe1",
   "metadata": {},
   "source": [
    "# 3.Extracting fields of a roll number using string indexing and slicing"
   ]
  },
  {
   "cell_type": "code",
   "execution_count": 1,
   "id": "693551eb",
   "metadata": {},
   "outputs": [
    {
     "name": "stdout",
     "output_type": "stream",
     "text": [
      "branch:  MCA\n",
      "year:  2024\n",
      "sem:  MCA-1\n",
      "ROLLNO:  47\n"
     ]
    }
   ],
   "source": [
    "Rollno=\"MCA2024MCA-147\"\n",
    "\n",
    "branch=Rollno[:3]\n",
    "print(\"branch: \",branch)\n",
    "\n",
    "year=Rollno[3:7]\n",
    "print(\"year: \",year)\n",
    "\n",
    "sem=Rollno[7:12]\n",
    "print(\"sem: \",sem)\n",
    "\n",
    "ROLLNO=Rollno[12:]\n",
    "print(\"ROLLNO: \",ROLLNO)"
   ]
  },
  {
   "cell_type": "code",
   "execution_count": null,
   "id": "d7d9b6b2",
   "metadata": {},
   "outputs": [],
   "source": []
  }
 ],
 "metadata": {
  "kernelspec": {
   "display_name": "Python 3 (ipykernel)",
   "language": "python",
   "name": "python3"
  },
  "language_info": {
   "codemirror_mode": {
    "name": "ipython",
    "version": 3
   },
   "file_extension": ".py",
   "mimetype": "text/x-python",
   "name": "python",
   "nbconvert_exporter": "python",
   "pygments_lexer": "ipython3",
   "version": "3.10.0"
  }
 },
 "nbformat": 4,
 "nbformat_minor": 5
}
