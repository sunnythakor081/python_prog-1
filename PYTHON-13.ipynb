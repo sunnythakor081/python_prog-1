{
 "cells": [
  {
   "cell_type": "markdown",
   "id": "f01807c3",
   "metadata": {},
   "source": [
    "# 13.Given a price identify if you have exact change up to that price?"
   ]
  },
  {
   "cell_type": "code",
   "execution_count": null,
   "id": "a61631dd",
   "metadata": {},
   "outputs": [],
   "source": [
    "def count(price,note,n):\n",
    "    while(price>=(n*note)):\n",
    "        n+=1\n",
    "    return n-1\n",
    "\n",
    "def check(price,note,ne):\n",
    "  n=count(price,note,1)\n",
    "  c=n-1\n",
    "  while(c>0):\n",
    "      print(\"----------\")\n",
    "      n=count(note*c,note,1)\n",
    "      print(\"Note {} : {} \".format(note,n))\n",
    "      p=price-(note*n)\n",
    "      count10=1\n",
    "      while(p>=(count10*ne)):\n",
    "        count10+=1\n",
    "      print(\"Note {} :{} \".format(ne,count10-1))\n",
    "      p=p-((count10-1)*ne)\n",
    "      d=1\n",
    "      if(p>=(d*10)):\n",
    "          d+=1\n",
    "      if(d-1!=0):\n",
    "       print(\"Note {} : {}\".format(10,d-1))\n",
    "      c-=1\n",
    "      \n",
    "   \n",
    "price=int(input(\"Enter Price\"))\n",
    "if(price>=10):\n",
    "  n=count(price,10,1)\n",
    "  print(\"-----------\")\n",
    "  print(\"Note 10  : \",n)\n",
    "  \n",
    "  check(price,20,10)\n",
    "  \n",
    "  check(price,50,10)\n",
    "  \n",
    "  check(price,100,10)\n",
    "  \n",
    "  check(price,500,10)\n",
    "if(price>=20):\n",
    "   n=count(price,20,1)\n",
    "   if(price==(n*20)):\n",
    "     print(\"---------------\")\n",
    "     print(\"Note 20 \",n)\n",
    "     \n",
    "   check(price,50,20)\n",
    "   \n",
    "   check(price,100,20)\n",
    "   \n",
    "   check(price,500,20)\n",
    "  \n",
    "if(price>=50):\n",
    "   n=count(price,50,1)\n",
    "   if(price==(n*50)):\n",
    "     print(\"---------------\")\n",
    "     print(\"Note 50 \",n)\n",
    "     \n",
    "   check(price,100,50)\n",
    "   \n",
    "   check(price,500,50)\n",
    "\n",
    "if(price>=100):\n",
    "   n=count(price,100,1)\n",
    "   if(price==(n*100)):\n",
    "     print(\"---------------\")\n",
    "     print(\"Note 100 \",n)\n",
    "     \n",
    "   check(price,500,100)"
   ]
  },
  {
   "cell_type": "code",
   "execution_count": null,
   "id": "a15807d3",
   "metadata": {},
   "outputs": [],
   "source": []
  }
 ],
 "metadata": {
  "kernelspec": {
   "display_name": "Python 3 (ipykernel)",
   "language": "python",
   "name": "python3"
  },
  "language_info": {
   "codemirror_mode": {
    "name": "ipython",
    "version": 3
   },
   "file_extension": ".py",
   "mimetype": "text/x-python",
   "name": "python",
   "nbconvert_exporter": "python",
   "pygments_lexer": "ipython3",
   "version": "3.10.0"
  }
 },
 "nbformat": 4,
 "nbformat_minor": 5
}
