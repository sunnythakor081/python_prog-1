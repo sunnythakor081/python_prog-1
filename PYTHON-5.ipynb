{
 "cells": [
  {
   "cell_type": "markdown",
   "id": "b78470b1",
   "metadata": {},
   "source": [
    "# 5.write a program to find out if the two blood groups match."
   ]
  },
  {
   "cell_type": "code",
   "execution_count": 19,
   "id": "4b16324e",
   "metadata": {},
   "outputs": [
    {
     "name": "stdout",
     "output_type": "stream",
     "text": [
      "Enter Person1 Blood Group : ab+\n",
      "Enter Person2 Blood Group : ab+\n",
      "AB+   and  AB+  blood group is match\n"
     ]
    }
   ],
   "source": [
    "blood=('A-','A+','B-','B+','O-','O+','AB-','AB+')\n",
    "p1=0\n",
    "while(1):\n",
    "  if(p1==0):\n",
    "   person1=input(\"Enter Person1 Blood Group : \").upper()\n",
    "   if(person1 in blood):  \n",
    "       p1=1\n",
    "  else:\n",
    "     person2=input(\"Enter Person2 Blood Group : \").upper()\n",
    "     if(person2  in blood):\n",
    "       break\n",
    "    \n",
    "\n",
    " \n",
    "  \n",
    "if(person1==person2):\n",
    "   print(person1,\"  and \",person2,\" blood group is match\")\n",
    "else:\n",
    "   print(person1,\" and \",person2,\" blood group is not match\")"
   ]
  },
  {
   "cell_type": "code",
   "execution_count": null,
   "id": "ad355c55",
   "metadata": {},
   "outputs": [],
   "source": []
  }
 ],
 "metadata": {
  "kernelspec": {
   "display_name": "Python 3 (ipykernel)",
   "language": "python",
   "name": "python3"
  },
  "language_info": {
   "codemirror_mode": {
    "name": "ipython",
    "version": 3
   },
   "file_extension": ".py",
   "mimetype": "text/x-python",
   "name": "python",
   "nbconvert_exporter": "python",
   "pygments_lexer": "ipython3",
   "version": "3.10.0"
  }
 },
 "nbformat": 4,
 "nbformat_minor": 5
}
