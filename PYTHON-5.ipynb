{
 "cells": [
  {
   "cell_type": "markdown",
   "id": "b78470b1",
   "metadata": {},
   "source": [
    "# 5.write a program to find out if the two blood groups match."
   ]
  },
  {
   "cell_type": "code",
   "execution_count": null,
   "id": "ff347f16",
   "metadata": {},
   "outputs": [],
   "source": [
    "Blood_group_1=input(\"Enter your Blood_Group__1\")\n",
    "Blood_group_2=input(\"Enter your Blood_Group__2\")\n",
    "\n",
    "\n",
    "if Blood_group_1==Blood_group_2:\n",
    "    \n",
    "     print(\"your Blood_Group is matched\")\n",
    "else:\n",
    "    print(\"your Blood_Group not matche\")"
   ]
  }
 ],
 "metadata": {
  "kernelspec": {
   "display_name": "Python 3 (ipykernel)",
   "language": "python",
   "name": "python3"
  },
  "language_info": {
   "codemirror_mode": {
    "name": "ipython",
    "version": 3
   },
   "file_extension": ".py",
   "mimetype": "text/x-python",
   "name": "python",
   "nbconvert_exporter": "python",
   "pygments_lexer": "ipython3",
   "version": "3.10.0"
  }
 },
 "nbformat": 4,
 "nbformat_minor": 5
}
