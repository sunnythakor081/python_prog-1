{
 "cells": [
  {
   "cell_type": "markdown",
   "id": "ee066310",
   "metadata": {},
   "source": [
    "# 12.find birthday in a month using dictionary. Birthday in DD/MM/YY format."
   ]
  },
  {
   "cell_type": "code",
   "execution_count": 15,
   "id": "216331cc",
   "metadata": {},
   "outputs": [
    {
     "ename": "IndentationError",
     "evalue": "unindent does not match any outer indentation level (<tokenize>, line 7)",
     "output_type": "error",
     "traceback": [
      "\u001b[1;36m  File \u001b[1;32m\"<tokenize>\"\u001b[1;36m, line \u001b[1;32m7\u001b[0m\n\u001b[1;33m    elif(int(d)>31 or int(d)<1):\u001b[0m\n\u001b[1;37m    ^\u001b[0m\n\u001b[1;31mIndentationError\u001b[0m\u001b[1;31m:\u001b[0m unindent does not match any outer indentation level\n"
     ]
    }
   ],
   "source": [
    "def takeday():\n",
    "    while(True):\n",
    "        d=input(\"Enter day :\")\n",
    "        if(len(d)==1):\n",
    "        d=\"0\"+d\n",
    "        return d\n",
    "     elif(int(d)>31 or int(d)<1):\n",
    "            print(\"Please Enter Valid Day :\")\n",
    "        else:\n",
    "        return d\n",
    "months={\n",
    "1:\"January\",\n",
    "2: \"February\",\n",
    "3: \"March\",\n",
    "4: \"April\",\n",
    "5: \"May\",\n",
    "6:\"June\",\n",
    "7: \"July\",\n",
    "8: \"August\",\n",
    "9: \"September\",\n",
    "10:\"October\",\n",
    "11 :\"November\",\n",
    "12:\"December\"\n",
    "}\n",
    "print(\"Enter Birthdate DD-MM-YYYY format\")\n",
    "d=takeday()\n",
    "while(True):\n",
    "    m=int(input(\"Enter Month\"))\n",
    "    d1=int(d)\n",
    "    print(\"Please,Enter valid Month : \")\n",
    "    elif(((m==1 or m==3 or m==5 or m==7 or m==8 or m==10 or m==12)and d1>31) or (m==2 and d1>29) or ((m==4 or m==6 or m==9 or m==11) and d1>30 )):\n",
    "        print(\"Invalid day, please enter valid day\")\n",
    "        d=takeday()\n",
    "        d1=int(d)\n",
    "    else:\n",
    "        break\n",
    "y=input(\"Enter Year\")\n",
    "for i in months.keys():\n",
    "    if(m==i):\n",
    "        print(\"BIRTHDATE : {}-{}-{}\".format(d,months[i],y))"
   ]
  },
  {
   "cell_type": "code",
   "execution_count": null,
   "id": "875efb00",
   "metadata": {},
   "outputs": [],
   "source": []
  },
  {
   "cell_type": "code",
   "execution_count": null,
   "id": "85a12240",
   "metadata": {},
   "outputs": [],
   "source": []
  }
 ],
 "metadata": {
  "kernelspec": {
   "display_name": "Python 3 (ipykernel)",
   "language": "python",
   "name": "python3"
  },
  "language_info": {
   "codemirror_mode": {
    "name": "ipython",
    "version": 3
   },
   "file_extension": ".py",
   "mimetype": "text/x-python",
   "name": "python",
   "nbconvert_exporter": "python",
   "pygments_lexer": "ipython3",
   "version": "3.10.0"
  }
 },
 "nbformat": 4,
 "nbformat_minor": 5
}
