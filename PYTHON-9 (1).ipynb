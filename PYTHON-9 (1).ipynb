{
 "cells": [
  {
   "cell_type": "markdown",
   "id": "1dc4b5ac",
   "metadata": {},
   "source": [
    "# 9.print fibonacci sequence."
   ]
  },
  {
   "cell_type": "code",
   "execution_count": 8,
   "id": "9ad2c87d",
   "metadata": {},
   "outputs": [
    {
     "name": "stdout",
     "output_type": "stream",
     "text": [
      "Enter number: 7\n",
      "1\n",
      "2\n",
      "3\n",
      "5\n",
      "8\n",
      "13\n",
      "21\n"
     ]
    }
   ],
   "source": [
    "number=int(input(\"Enter number: \"));\n",
    "num1 = 0\n",
    "num2 = 1\n",
    "n = num2  \n",
    "count = 1\n",
    "\n",
    " \n",
    "while count <= number:\n",
    "    print(\"your bifonacci sequence of\",n)\n",
    "    count= count + 1\n",
    "    num1, num2 = num2,n\n",
    "    n = num1 + num2\n"
   ]
  }
 ],
 "metadata": {
  "kernelspec": {
   "display_name": "Python 3 (ipykernel)",
   "language": "python",
   "name": "python3"
  },
  "language_info": {
   "codemirror_mode": {
    "name": "ipython",
    "version": 3
   },
   "file_extension": ".py",
   "mimetype": "text/x-python",
   "name": "python",
   "nbconvert_exporter": "python",
   "pygments_lexer": "ipython3",
   "version": "3.10.0"
  }
 },
 "nbformat": 4,
 "nbformat_minor": 5
}
