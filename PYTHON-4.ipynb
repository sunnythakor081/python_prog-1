{
 "cells": [
  {
   "cell_type": "markdown",
   "id": "19ba766a",
   "metadata": {},
   "source": [
    "# 4.word shuffle using string manipulation."
   ]
  },
  {
   "cell_type": "code",
   "execution_count": 1,
   "id": "726e42a1",
   "metadata": {},
   "outputs": [
    {
     "name": "stdout",
     "output_type": "stream",
     "text": [
      "indx(0):   N\n",
      "indx(0):   New\n",
      "indx(0):   nglish\n",
      "indx(0):   h Word\n",
      "indx(0):   s\n",
      "indx(0):   New English Word\n",
      "indx(0):   ew English Wo\n",
      "indx(0):   lis\n",
      "indx(0):   h Word\n"
     ]
    }
   ],
   "source": [
    "random=\"New English Words\"\n",
    "\n",
    "print(\"indx(0):  \",random[0])\n",
    "print(\"indx(0):  \",random[0:3])\n",
    "print(\"indx(0):  \",random[5:11])\n",
    "print(\"indx(0):  \",random[-7:-1])\n",
    "print(\"indx(0):  \",random[9])\n",
    "print(\"indx(0):  \",random[0:-1])\n",
    "print(\"indx(0):  \",random[1:-3])\n",
    "print(\"indx(0):  \",random[7:10])\n",
    "print(\"indx(0):  \",random[-7:-1])"
   ]
  },
  {
   "cell_type": "code",
   "execution_count": null,
   "id": "bbff3d33",
   "metadata": {},
   "outputs": [],
   "source": []
  }
 ],
 "metadata": {
  "kernelspec": {
   "display_name": "Python 3 (ipykernel)",
   "language": "python",
   "name": "python3"
  },
  "language_info": {
   "codemirror_mode": {
    "name": "ipython",
    "version": 3
   },
   "file_extension": ".py",
   "mimetype": "text/x-python",
   "name": "python",
   "nbconvert_exporter": "python",
   "pygments_lexer": "ipython3",
   "version": "3.10.0"
  }
 },
 "nbformat": 4,
 "nbformat_minor": 5
}
