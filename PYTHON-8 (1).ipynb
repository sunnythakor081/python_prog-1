{
 "cells": [
  {
   "cell_type": "markdown",
   "id": "047be922",
   "metadata": {},
   "source": [
    "# 8.Find out pass-percentage of a class."
   ]
  },
  {
   "cell_type": "code",
   "execution_count": null,
   "id": "a7245a69",
   "metadata": {},
   "outputs": [],
   "source": [
    "students=int(input(\"How Many Students : \"))\n",
    "p=0\n",
    "i=1\n",
    "while(i<=students):\n",
    "    m=int(input(\"Enter {} Student Marks : \".format(i)))\n",
    "    if(m>100 or m<0):\n",
    "        print(\"please,enter valid student marks\")\n",
    "        continue\n",
    "    if(m>=40):\n",
    "        p+=1\n",
    "    i+=1    \n",
    "print(\"Percantage of Passing Students {}%\".format((p*100)/students))"
   ]
  },
  {
   "cell_type": "code",
   "execution_count": null,
   "id": "3ac01b1a",
   "metadata": {},
   "outputs": [],
   "source": []
  }
 ],
 "metadata": {
  "kernelspec": {
   "display_name": "Python 3 (ipykernel)",
   "language": "python",
   "name": "python3"
  },
  "language_info": {
   "codemirror_mode": {
    "name": "ipython",
    "version": 3
   },
   "file_extension": ".py",
   "mimetype": "text/x-python",
   "name": "python",
   "nbconvert_exporter": "python",
   "pygments_lexer": "ipython3",
   "version": "3.10.0"
  }
 },
 "nbformat": 4,
 "nbformat_minor": 5
}
