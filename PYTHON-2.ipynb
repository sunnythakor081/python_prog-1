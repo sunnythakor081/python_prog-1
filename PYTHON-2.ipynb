{
 "cells": [
  {
   "cell_type": "markdown",
   "id": "3f81a019",
   "metadata": {},
   "source": [
    "# 2.find the sum of the n naturl numbers."
   ]
  },
  {
   "cell_type": "code",
   "execution_count": null,
   "id": "f78cac99",
   "metadata": {},
   "outputs": [],
   "source": [
    "number = input(\"Enter value\\n\");\n",
    "n =int(number)\n",
    "sum=n*(n+1)/2\n",
    "print(sum);"
   ]
  }
 ],
 "metadata": {
  "kernelspec": {
   "display_name": "Python 3 (ipykernel)",
   "language": "python",
   "name": "python3"
  },
  "language_info": {
   "codemirror_mode": {
    "name": "ipython",
    "version": 3
   },
   "file_extension": ".py",
   "mimetype": "text/x-python",
   "name": "python",
   "nbconvert_exporter": "python",
   "pygments_lexer": "ipython3",
   "version": "3.10.0"
  }
 },
 "nbformat": 4,
 "nbformat_minor": 5
}
