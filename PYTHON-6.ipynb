{
 "cells": [
  {
   "cell_type": "markdown",
   "id": "6c400731",
   "metadata": {},
   "source": [
    "# 6.find the student frome cs department where the roll number may be in capital or small-case letterd."
   ]
  },
  {
   "cell_type": "code",
   "execution_count": 5,
   "id": "21a59370",
   "metadata": {},
   "outputs": [
    {
     "name": "stdout",
     "output_type": "stream",
     "text": [
      "Enter your Rollnocs\n",
      "\n",
      " cs is computer scince student:\n"
     ]
    }
   ],
   "source": [
    "rollno=str(input(\"Enter your Rollno\"))\n",
    "\n",
    "branch=rollno[0:2]\n",
    "\n",
    "if branch == \"Cs\" or branch==\"cS\" or branch==\"CS\" or branch==\"cs\":\n",
    "     print(\"\\n {} is computer scince student:\".format(rollno))\n",
    "else:\n",
    "    print(\"\\n{} is not computer scince student:\".format(rollno))\n",
    "\n",
    "\n",
    "    \n",
    "\n"
   ]
  },
  {
   "cell_type": "code",
   "execution_count": null,
   "id": "d6b80b36",
   "metadata": {},
   "outputs": [],
   "source": []
  }
 ],
 "metadata": {
  "kernelspec": {
   "display_name": "Python 3 (ipykernel)",
   "language": "python",
   "name": "python3"
  },
  "language_info": {
   "codemirror_mode": {
    "name": "ipython",
    "version": 3
   },
   "file_extension": ".py",
   "mimetype": "text/x-python",
   "name": "python",
   "nbconvert_exporter": "python",
   "pygments_lexer": "ipython3",
   "version": "3.10.0"
  }
 },
 "nbformat": 4,
 "nbformat_minor": 5
}
