{
 "cells": [
  {
   "cell_type": "markdown",
   "id": "5d46e605",
   "metadata": {},
   "source": [
    "# 1.Find the probability of it being neither a king nor a spade"
   ]
  },
  {
   "cell_type": "code",
   "execution_count": null,
   "id": "76b3f8b4",
   "metadata": {},
   "outputs": [],
   "source": [
    "total_card=52\n",
    "\n",
    "spade=13\n",
    "\n",
    "king=4\n",
    "\n",
    "spade_king=1\n",
    "\n",
    "total_spade=spade+king-spade_king\n",
    "\n",
    "probability=(total_card-total_spade)/total_card\n",
    "\n",
    "print(\"yor probability is =\",probability);"
   ]
  }
 ],
 "metadata": {
  "kernelspec": {
   "display_name": "Python 3 (ipykernel)",
   "language": "python",
   "name": "python3"
  },
  "language_info": {
   "codemirror_mode": {
    "name": "ipython",
    "version": 3
   },
   "file_extension": ".py",
   "mimetype": "text/x-python",
   "name": "python",
   "nbconvert_exporter": "python",
   "pygments_lexer": "ipython3",
   "version": "3.10.0"
  }
 },
 "nbformat": 4,
 "nbformat_minor": 5
}
