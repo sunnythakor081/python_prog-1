{
 "cells": [
  {
   "cell_type": "markdown",
   "id": "f6e23867",
   "metadata": {},
   "source": [
    "# 7.to read a card as input and output if the card is lucky or not."
   ]
  },
  {
   "cell_type": "code",
   "execution_count": 1,
   "id": "78dede36",
   "metadata": {},
   "outputs": [
    {
     "name": "stdout",
     "output_type": "stream",
     "text": [
      "Enter Any Suit with Card : spade king\n",
      "Card is Lucky\n"
     ]
    }
   ],
   "source": [
    "c=input(\"Enter Any Suit with Card : \")\n",
    "\n",
    "suit,card=c.split()\n",
    "\n",
    "if(suit=='diamond' or (suit=='spade' and card=='ace') or card=='king'):\n",
    "  print(\"Card is Lucky\")\n",
    "else:\n",
    "  print(\"Please,try next time\")"
   ]
  },
  {
   "cell_type": "code",
   "execution_count": null,
   "id": "29f8f5ab",
   "metadata": {},
   "outputs": [],
   "source": []
  }
 ],
 "metadata": {
  "kernelspec": {
   "display_name": "Python 3 (ipykernel)",
   "language": "python",
   "name": "python3"
  },
  "language_info": {
   "codemirror_mode": {
    "name": "ipython",
    "version": 3
   },
   "file_extension": ".py",
   "mimetype": "text/x-python",
   "name": "python",
   "nbconvert_exporter": "python",
   "pygments_lexer": "ipython3",
   "version": "3.10.0"
  }
 },
 "nbformat": 4,
 "nbformat_minor": 5
}
