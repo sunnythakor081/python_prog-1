{
 "cells": [
  {
   "cell_type": "markdown",
   "id": "3a5b205b",
   "metadata": {},
   "source": [
    "# 10.collatz sequence"
   ]
  },
  {
   "cell_type": "code",
   "execution_count": 2,
   "id": "635160cf",
   "metadata": {},
   "outputs": [
    {
     "name": "stdout",
     "output_type": "stream",
     "text": [
      "Enter Any Number7\n",
      "7 22 11 34 17 52 26 13 40 20 10 5 16 8 4 2 1 "
     ]
    }
   ],
   "source": [
    "no=int(input(\"Enter Any Number\"))\n",
    "\n",
    "print(no,end=\" \")\n",
    "\n",
    "while(no!=1):\n",
    "    if(no%2==0):\n",
    "        no=int(no/2)\n",
    "        print(no,end=\" \")\n",
    "    else:\n",
    "        no=(no*3)+1\n",
    "        print(no,end=\" \")"
   ]
  }
 ],
 "metadata": {
  "kernelspec": {
   "display_name": "Python 3 (ipykernel)",
   "language": "python",
   "name": "python3"
  },
  "language_info": {
   "codemirror_mode": {
    "name": "ipython",
    "version": 3
   },
   "file_extension": ".py",
   "mimetype": "text/x-python",
   "name": "python",
   "nbconvert_exporter": "python",
   "pygments_lexer": "ipython3",
   "version": "3.10.0"
  }
 },
 "nbformat": 4,
 "nbformat_minor": 5
}
