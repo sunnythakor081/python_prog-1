{
 "cells": [
  {
   "cell_type": "markdown",
   "id": "230a4c9f",
   "metadata": {},
   "source": [
    "# 11.given a positive integer,check if the number is prime or not"
   ]
  },
  {
   "cell_type": "code",
   "execution_count": 6,
   "id": "4f533d7e",
   "metadata": {},
   "outputs": [
    {
     "name": "stdout",
     "output_type": "stream",
     "text": [
      "Enter any positive integer8\n",
      "8  number is not Prime\n"
     ]
    }
   ],
   "source": [
    "no=int(input(\"Enter any positive number\"))\n",
    "for i in range(2,int(no/2+1)):\n",
    "    if(no%i==0):\n",
    "        break\n",
    "if(i==int(no/2)):\n",
    "    print(no,\" number is Prime\")\n",
    "else:\n",
    "    print(no,\" number is not Prime\")\n",
    "            "
   ]
  },
  {
   "cell_type": "code",
   "execution_count": null,
   "id": "75868020",
   "metadata": {},
   "outputs": [],
   "source": []
  }
 ],
 "metadata": {
  "kernelspec": {
   "display_name": "Python 3 (ipykernel)",
   "language": "python",
   "name": "python3"
  },
  "language_info": {
   "codemirror_mode": {
    "name": "ipython",
    "version": 3
   },
   "file_extension": ".py",
   "mimetype": "text/x-python",
   "name": "python",
   "nbconvert_exporter": "python",
   "pygments_lexer": "ipython3",
   "version": "3.10.0"
  }
 },
 "nbformat": 4,
 "nbformat_minor": 5
}
